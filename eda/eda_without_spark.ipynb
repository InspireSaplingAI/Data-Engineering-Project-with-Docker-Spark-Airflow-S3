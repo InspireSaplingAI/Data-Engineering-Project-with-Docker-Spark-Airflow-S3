{
 "cells": [
  {
   "cell_type": "markdown",
   "metadata": {},
   "source": [
    "# E-commerce Shipping Analysis\n",
    "## Identifying Late Deliveries and Seller Performance\n",
    "\n",
    "### Objective\n",
    "This notebook analyzes e-commerce data to identify orders where sellers missed the shipping deadline by delivering packages to carriers after the designated limit date set by Olist.\n",
    "\n",
    "### Business Problem\n",
    "When sellers deliver packages late to carriers, it causes:\n",
    "- Customer dissatisfaction\n",
    "- Delayed deliveries\n",
    "- Operational inefficiencies\n",
    "- Potential financial penalties\n",
    "\n",
    "### Analysis Goals\n",
    "1. Identify the percentage of late deliveries\n",
    "2. Find which product categories have the most late deliveries\n",
    "3. Calculate average delay times\n",
    "4. Identify sellers with frequent late deliveries\n",
    "5. Provide actionable insights for operations team\n",
    "\n",
    "### Datasets Used\n",
    "- `olist_order_items_dataset.csv`: Order item details and shipping limits\n",
    "- `olist_orders_dataset.csv`: Order status and delivery timelines\n",
    "- `olist_products_dataset.csv`: Product category information\n",
    "\n",
    "### Methodology\n",
    "We'll use pandas for data manipulation and analysis, comparing `shipping_limit_date` with `order_delivered_carrier_date` to identify late deliveries.\n",
    "\n",
    "---"
   ]
  },
  {
   "cell_type": "markdown",
   "metadata": {},
   "source": [
    "## Step 1: Setup and Data Loading\n",
    "First, let's import necessary libraries and load our datasets."
   ]
  },
  {
   "cell_type": "code",
   "execution_count": null,
   "metadata": {},
   "outputs": [],
   "source": [
    "import pandas as pd\n",
    "import zipfile\n",
    "from datetime import datetime\n",
    "import matplotlib.pyplot as plt\n",
    "import seaborn as sns\n",
    "\n",
    "# Set visualization style\n",
    "sns.set_style(\"whitegrid\")\n",
    "plt.rcParams['figure.figsize'] = (12, 6)\n",
    "\n",
    "print(\"Libraries imported successfully!\")"
   ]
  },
  {
   "cell_type": "markdown",
   "metadata": {},
   "source": [
    "## Step 2: Extract and Load Data\n",
    "To Do: Extract the zip file and load the three main datasets"
   ]
  },
  {
   "cell_type": "code",
   "execution_count": null,
   "metadata": {},
   "outputs": [],
   "source": [
    "# To Do 1: Extract the zip file containing the e-commerce data\n",
    "# Use zipfile to extract all files from 'data/ecommerce_zipped_raw_data.zip'\n",
    "# Hint: Use ZipFile context manager and extractall() method\n",
    "\n",
    "# Your code here\n",
    "\n",
    "print(\"Files extracted successfully!\")\n",
    "\n",
    "# To Do 2: Load the three main datasets we need\n",
    "# Read these CSV files into pandas DataFrames:\n",
    "# - olist_order_items_dataset.csv\n",
    "# - olist_orders_dataset.csv  \n",
    "# - olist_products_dataset.csv\n",
    "# Use meaningful variable names: df_items, df_orders, df_products\n",
    "\n",
    "# Your code here\n",
    "\n",
    "print(\"Datasets loaded successfully!\")\n",
    "print(f\"Items shape: {df_items.shape}\")\n",
    "print(f\"Orders shape: {df_orders.shape}\")\n",
    "print(f\"Products shape: {df_products.shape}\")"
   ]
  },
  {
   "cell_type": "markdown",
   "metadata": {},
   "source": [
    "## Step 3: Data Exploration\n",
    "To Do: Explore the structure of each dataset to understand what we're working with"
   ]
  },
  {
   "cell_type": "code",
   "execution_count": null,
   "metadata": {},
   "outputs": [],
   "source": [
    "# To Do 3: Explore the data structure\n",
    "# Use .head(), .info(), and .describe() to understand each dataset\n",
    "# Look at the columns and data types\n",
    "\n",
    "# Your code here\n",
    "print(\"\\n--- Items Dataset Preview ---\")\n",
    "\n",
    "print(\"\\n--- Items Dataset Info ---\")\n",
    "\n",
    "print(\"\\n--- Orders Dataset Preview ---\")\n",
    "print(\"\\n--- Orders Dataset Info ---\")\n",
    "\n",
    "print(\"\\n--- Products Dataset Preview ---\")\n",
    "print(\"\\n--- Products Dataset Info ---\")"
   ]
  },
  {
   "cell_type": "markdown",
   "metadata": {},
   "source": [
    "## Step 4: Data Cleaning - Date Conversion\n",
    "To Do: Convert date columns to proper datetime format for accurate comparisons"
   ]
  },
  {
   "cell_type": "code",
   "execution_count": null,
   "metadata": {},
   "outputs": [],
   "source": [
    "# To Do 4: Convert date columns to datetime format\n",
    "# Identify date columns in each dataset and convert them using pd.to_datetime()\n",
    "# Date columns to check: shipping_limit_date, order_purchase_timestamp, \n",
    "# order_approved_at, order_delivered_carrier_date, order_delivered_customer_date,\n",
    "# order_estimated_delivery_date\n",
    "\n",
    "# Your code here\n",
    "print(\"Date columns converted successfully!\")\n",
    "print(\"\\nSample of converted dates from items:\")\n",
    "print(df_items[['shipping_limit_date']].head())\n",
    "print(\"\\nSample of converted dates from orders:\")\n",
    "print(df_orders[['order_purchase_timestamp', 'order_delivered_carrier_date']].head())"
   ]
  },
  {
   "cell_type": "markdown",
   "metadata": {},
   "source": [
    "## Step 5: Data Integration - Merging Datasets\n",
    "To Do: Combine the three datasets to create a comprehensive view of orders, items, and products"
   ]
  },
  {
   "cell_type": "code",
   "execution_count": null,
   "metadata": {},
   "outputs": [],
   "source": [
    "# To Do 5: Merge the datasets\n",
    "# Combine the three datasets using appropriate merge operations\n",
    "# Hint: You'll need to merge items with orders on 'order_id', \n",
    "# then merge the result with products on 'product_id'\n",
    "# Keep only the product_category_name from products dataset\n",
    "\n",
    "# Your code here\n",
    "print(f\"Merged dataset shape: {df_merged.shape}\")\n",
    "print(\"\\nMerged dataset columns:\")\n",
    "print(df_merged.columns.tolist())\n",
    "print(\"\\nFirst few rows of merged data:\")\n",
    "print(df_merged.head())"
   ]
  },
  {
   "cell_type": "markdown",
   "metadata": {},
   "source": [
    "## Step 6: Core Analysis - Identifying Late Deliveries\n",
    "To Do: Filter the data to find orders where sellers missed the shipping deadline"
   ]
  },
  {
   "cell_type": "code",
   "execution_count": null,
   "metadata": {},
   "outputs": [],
   "source": [
    "# To Do 6: Identify late deliveries\n",
    "# Filter the merged dataset to find orders where shipping_limit_date \n",
    "# is earlier than order_delivered_carrier_date\n",
    "# This identifies orders delivered to carrier after the deadline\n",
    "\n",
    "# Your code here\n",
    "\n",
    "print(f\"Total orders: {len(df_merged):,}\")\n",
    "print(f\"Late deliveries: {len(late_deliveries):,}\")\n",
    "print(f\"Percentage late: {len(late_deliveries)/len(df_merged)*100:.2f}%\")\n",
    "\n",
    "# Display basic statistics about late deliveries\n",
    "print(\"\\nLate deliveries overview:\")\n",
    "print(f\"- Average price: ${late_deliveries['price'].mean():.2f}\")\n",
    "print(f\"- Average freight value: ${late_deliveries['freight_value'].mean():.2f}\")"
   ]
  },
  {
   "cell_type": "markdown",
   "metadata": {},
   "source": [
    "## Step 7: Sample Analysis\n",
    "To Do: Examine sample late deliveries to understand the pattern"
   ]
  },
  {
   "cell_type": "code",
   "execution_count": null,
   "metadata": {},
   "outputs": [],
   "source": [
    "# To Do 7: Display sample of late deliveries\n",
    "# Show the first 10 late deliveries with key columns:\n",
    "# order_id, seller_id, shipping_limit_date, order_delivered_carrier_date, product_category_name\n",
    "\n",
    "# Your code here\n",
    "print(\"Sample of late deliveries:\")\n",
    "print(late_deliveries[sample_columns].head(10))"
   ]
  },
  {
   "cell_type": "markdown",
   "metadata": {},
   "source": [
    "## Step 8: Order Status Analysis\n",
    "To Do: Analyze the distribution of order statuses to understand overall order flow"
   ]
  },
  {
   "cell_type": "code",
   "execution_count": null,
   "metadata": {},
   "outputs": [],
   "source": [
    "# To Do 8: Analyze by order status\n",
    "# Group the merged data by order_status and count the number of orders in each status\n",
    "# This helps understand the distribution of order statuses\n",
    "\n",
    "# Your code here\n",
    "\n",
    "# Visualize order status distribution\n",
    "plt.figure(figsize=(10, 6))\n",
    "order_status_counts.plot(kind='bar', color='skyblue')\n",
    "plt.title('Distribution of Orders by Status')\n",
    "plt.xlabel('Order Status')\n",
    "plt.ylabel('Number of Orders')\n",
    "plt.xticks(rotation=45)\n",
    "plt.tight_layout()\n",
    "plt.show()"
   ]
  },
  {
   "cell_type": "markdown",
   "metadata": {},
   "source": [
    "## Step 9: Product Category Analysis\n",
    "To Do: Identify which product categories have the most late deliveries"
   ]
  },
  {
   "cell_type": "code",
   "execution_count": null,
   "metadata": {},
   "outputs": [],
   "source": [
    "# To Do 9: Analyze late deliveries by product category\n",
    "# Group late deliveries by product_category_name and count occurrences\n",
    "# Sort to see which categories have the most late deliveries\n",
    "\n",
    "# Your code here\n",
    "\n",
    "# Visualize top categories with late deliveries\n",
    "plt.figure(figsize=(12, 6))\n",
    "late_by_category.head(15).plot(kind='bar', color='salmon')\n",
    "plt.title('Top 15 Product Categories with Late Deliveries')\n",
    "plt.xlabel('Product Category')\n",
    "plt.ylabel('Number of Late Deliveries')\n",
    "plt.xticks(rotation=45, ha='right')\n",
    "plt.tight_layout()\n",
    "plt.show()"
   ]
  },
  {
   "cell_type": "markdown",
   "metadata": {},
   "source": [
    "## Step 10: Delay Time Analysis\n",
    "To Do: Calculate how late deliveries actually are in terms of hours"
   ]
  },
  {
   "cell_type": "code",
   "execution_count": null,
   "metadata": {},
   "outputs": [],
   "source": [
    "# To Do 10: Calculate delay time\n",
    "# Create a new column 'delay_hours' that calculates how many hours late each delivery was\n",
    "# Hint: Subtract shipping_limit_date from order_delivered_carrier_date and convert to hours\n",
    "\n",
    "# Your code here\n",
    "print(f\"Average delay: {late_deliveries['delay_hours'].mean():.2f} hours\")\n",
    "print(f\"Maximum delay: {late_deliveries['delay_hours'].max():.2f} hours\")\n",
    "print(f\"Minimum delay: {late_deliveries['delay_hours'].min():.2f} hours\")\n",
    "print(f\"Median delay: {late_deliveries['delay_hours'].median():.2f} hours\")\n",
    "\n",
    "# Visualize delay time distribution\n",
    "plt.figure(figsize=(12, 6))\n",
    "plt.hist(late_deliveries['delay_hours'], bins=50, color='lightgreen', edgecolor='black', alpha=0.7)\n",
    "plt.title('Distribution of Delivery Delay Times')\n",
    "plt.xlabel('Delay Hours')\n",
    "plt.ylabel('Frequency')\n",
    "plt.axvline(late_deliveries['delay_hours'].mean(), color='red', linestyle='--', \n",
    "            label=f'Mean: {late_deliveries[\\\"delay_hours\\\"].mean():.1f} hours')\n",
    "plt.legend()\n",
    "plt.tight_layout()\n",
    "plt.show()"
   ]
  },
  {
   "cell_type": "markdown",
   "metadata": {},
   "source": [
    "## Step 11: Seller Performance Analysis\n",
    "To Do: Identify sellers who frequently miss shipping deadlines"
   ]
  },
  {
   "cell_type": "code",
   "execution_count": null,
   "metadata": {},
   "outputs": [],
   "source": [
    "# To Do 11: Identify sellers with most late deliveries\n",
    "# Group late deliveries by seller_id and count occurrences\n",
    "# Sort to see which sellers have the most late deliveries\n",
    "\n",
    "# Your code here\n",
    "\n",
    "# Analyze seller performance\n",
    "print(f\"\\nTotal unique sellers with late deliveries: {len(late_by_seller)}\")\n",
    "print(f\"Top seller has {late_by_seller.iloc[0]} late deliveries\")\n",
    "print(f\"Average late deliveries per seller: {late_by_seller.mean():.2f}\")"
   ]
  },
  {
   "cell_type": "markdown",
   "metadata": {},
   "source": [
    "## Step 12: Save Results\n",
    "To Do: Save the analysis results for further investigation and reporting"
   ]
  },
  {
   "cell_type": "code",
   "execution_count": null,
   "metadata": {},
   "outputs": [],
   "source": [
    "# To Do 12: Save results to CSV\n",
    "# Save the late_deliveries DataFrame to a CSV file for further analysis\n",
    "\n",
    "# Your code here\n",
    "late_deliveries.to_csv('missed_shipping_limit_orders.csv', index=False)\n",
    "print(\"Results saved to 'missed_shipping_limit_orders.csv'\")\n",
    "\n",
    "# Also save the summary statistics\n",
    "summary_stats = pd.DataFrame({\n",
    "    'metric': ['Total Orders', 'Late Deliveries', 'Late Delivery Rate', \n",
    "               'Average Delay Hours', 'Max Delay Hours', 'Unique Sellers with Late Deliveries'],\n",
    "    'value': [len(df_merged), len(late_deliveries), \n",
    "              len(late_deliveries)/len(df_merged)*100,\n",
    "              late_deliveries['delay_hours'].mean(),\n",
    "              late_deliveries['delay_hours'].max(),\n",
    "              len(late_by_seller)]\n",
    "})\n",
    "summary_stats.to_csv('shipping_analysis_summary.csv', index=False)\n",
    "print(\"Summary statistics saved to 'shipping_analysis_summary.csv'\")"
   ]
  },
  {
   "cell_type": "markdown",
   "metadata": {},
   "source": [
    "## Step 13: Comprehensive Summary Report\n",
    "To Do: Generate a final summary report with key findings and insights"
   ]
  },
  {
   "cell_type": "code",
   "execution_count": null,
   "metadata": {},
   "outputs": [],
   "source": [
    "# To Do 13: Create a summary report\n",
    "# Generate a comprehensive summary of your findings\n",
    "\n",
    "# Your code here\n",
    "print(\"\\n\" + \"=\"*60)\n",
    "print(\"E-COMMERCE SHIPPING ANALYSIS SUMMARY\")\n",
    "print(\"=\"*60)\n",
    "print(f\"Total orders analyzed: {len(df_merged):,}\")\n",
    "print(f\"Late deliveries found: {len(late_deliveries):,}\")\n",
    "print(f\"Late delivery rate: {len(late_deliveries)/len(df_merged)*100:.2f}%\")\n",
    "print(f\"Average delay time: {late_deliveries['delay_hours'].mean():.2f} hours\")\n",
    "print(f\"Maximum delay time: {late_deliveries['delay_hours'].max():.2f} hours\")\n",
    "print(f\"Product category with most late deliveries: {late_by_category.index[0]}\")\n",
    "print(f\"Seller with most late deliveries: {late_by_seller.index[0]}\")\n",
    "print(f\"\\nTop 5 problematic categories:\")\n",
    "for i, (category, count) in enumerate(late_by_category.head().items(), 1):\n",
    "    print(f\"  {i}. {category}: {count} late deliveries\")\n",
    "print(\"=\"*60)\n",
    "print(\"\\nRECOMMENDATIONS:\")\n",
    "print(\"1. Focus on top 5 product categories for process improvement\")\n",
    "print(\"2. Work with sellers having frequent late deliveries\")\n",
    "print(\"3. Implement stricter monitoring for high-value orders\")\n",
    "print(\"4. Consider revising shipping deadlines for problematic categories\")"
   ]
  },
  {
   "cell_type": "markdown",
   "metadata": {},
   "source": [
    "## Step 14: Bonus - Advanced Visualizations (Optional)\n",
    "To Do: Create additional visualizations to deepen the analysis"
   ]
  },
  {
   "cell_type": "code",
   "execution_count": null,
   "metadata": {},
   "outputs": [],
   "source": [
    "# To Do 14: Bonus - Visualization (optional)\n",
    "# Create some advanced visualizations using matplotlib or seaborn\n",
    "\n",
    "# Your code here (optional)\n",
    "try:\n",
    "    # 1. Price vs Delay time scatter plot\n",
    "    plt.figure(figsize=(12, 6))\n",
    "    plt.scatter(late_deliveries['price'], late_deliveries['delay_hours'], \n",
    "               alpha=0.6, color='purple')\n",
    "    plt.title('Relationship between Order Price and Delay Time')\n",
    "    plt.xlabel('Order Price ($)')\n",
    "    plt.ylabel('Delay Hours')\n",
    "    plt.xlim(0, 1000)  # Limit x-axis for better visualization\n",
    "    plt.tight_layout()\n",
    "    plt.show()\n",
    "\n",
    "    # 2. Delay time by product category (top 10)\n",
    "    plt.figure(figsize=(14, 7))\n",
    "    top_categories = late_by_category.head(10).index\n",
    "    category_delays = late_deliveries[late_deliveries['product_category_name'].isin(top_categories)]\n",
    "    \n",
    "    sns.boxplot(data=category_delays, x='product_category_name', y='delay_hours')\n",
    "    plt.title('Delay Time Distribution by Top Product Categories')\n",
    "    plt.xlabel('Product Category')\n",
    "    plt.ylabel('Delay Hours')\n",
    "    plt.xticks(rotation=45, ha='right')\n",
    "    plt.tight_layout()\n",
    "    plt.show()\n",
    "\n",
    "    print(\"Advanced visualizations created successfully!\")\n",
    "    \n",
    "except Exception as e:\n",
    "    print(f\"Error creating advanced visualizations: {e}\")"
   ]
  },
  {
   "cell_type": "markdown",
   "metadata": {},
   "source": [
    "# Conclusion\n",
    "\n",
    "## Key Findings\n",
    "- **Late Delivery Rate**: X% of orders missed the shipping deadline\n",
    "- **Problematic Categories**: [Top categories] show the highest incidence of late deliveries\n",
    "- **Delay Patterns**: Average delay is X hours, with some extreme cases\n",
    "- **Seller Performance**: [Number] sellers account for the majority of late deliveries\n",
    "\n",
    "## Next Steps\n",
    "1. **Operational Improvements**: Focus on top categories and sellers\n",
    "2. **Process Review**: Analyze why certain categories have more delays\n",
    "3. **Seller Training**: Work with problematic sellers on process improvement\n",
    "4. **Monitoring**: Implement real-time monitoring of shipping deadlines\n",
    "\n",
    "## Files Generated\n",
    "- `missed_shipping_limit_orders.csv`: Complete list of late deliveries\n",
    "- `shipping_analysis_summary.csv`: Key metrics and statistics\n",
    "- Visualizations: Multiple charts showing patterns and distributions\n",
    "\n",
    "---\n",
    "*Analysis completed successfully!*"
   ]
  }
 ],
 "metadata": {
  "kernelspec": {
   "display_name": "Python 3",
   "language": "python",
   "name": "python3"
  },
  "language_info": {
   "codemirror_mode": {
    "name": "ipython",
    "version": 3
   },
   "file_extension": ".py",
   "mimetype": "text/x-python",
   "name": "python",
   "nbconvert_exporter": "python",
   "pygments_lexer": "ipython3",
   "version": "3.8.0"
  }
 },
 "nbformat": 4,
 "nbformat_minor": 4
}
